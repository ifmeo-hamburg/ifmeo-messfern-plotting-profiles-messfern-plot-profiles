{
 "cells": [
  {
   "cell_type": "markdown",
   "id": "97a567f5-3223-41c4-86a2-76c5742edf80",
   "metadata": {},
   "source": [
    "# Exercise 1: Profile Data\n",
    "\n",
    "Aim: To work with vertical profile data and make some standard calculations.\n",
    "\n",
    "- Author: XX YOUR NAME XX\n",
    "- Purpose: Plot profile data\n",
    "- Date: YYYY-MM-DD\n",
    "\n",
    "Four figures should be generated:\n",
    "- ex1fig1-Lastname-Messfern.png: Showing the temperature and practical salinity\n",
    "- ex1fig2-Lastname-Messfern.png: Showing the conservative temperature and practical salinity profiles\n",
    "- ex1fig3-Lastname-Messfern.png: Showing a basic TS profile\n",
    "- ex1fig4-Lastname-Messfern.png: Showing a TS profile focused on waters denser than 27.\n",
    "<hr>"
   ]
  },
  {
   "cell_type": "code",
   "execution_count": 20,
   "id": "13d272b1-8fdb-49de-864f-3974d675d014",
   "metadata": {},
   "outputs": [],
   "source": [
    "# Importing required packages here\n",
    "import matplotlib.pyplot as plt\n",
    "import gsw \n",
    "import numpy as np\n",
    "import xarray as xr\n",
    "import os\n",
    "\n",
    "from matplotlib.ticker import ScalarFormatter\n",
    "\n",
    "# For these to work, you need to install CTD-tools (https://gitlab.rrz.uni-hamburg.de/ifmeo/processing/ctd-tools)\n",
    "from ctd_tools.modules.reader import CnvReader, NetCdfReader\n",
    "from ctd_tools.modules.writer import NetCdfWriter\n",
    "from ctd_tools.modules.plotter import CtdPlotter\n",
    "\n"
   ]
  },
  {
   "cell_type": "code",
   "execution_count": 2,
   "id": "47870f9f-8f47-4804-bed8-072fdfbb6f12",
   "metadata": {},
   "outputs": [],
   "source": [
    "# Input file paths\n",
    "cnv_file_with_path = '../data/MSM121_054_1db.cnv'\n",
    "\n",
    "# Output file paths for netCDF\n",
    "netcdf_file_with_path = '../data/MSM121_054_1db.nc'\n",
    "netcdf_file_with_path_edited = '../data/MSM121_054_1db_edited.nc'\n",
    "\n",
    "# Output file paths for figures\n",
    "figdir = '../figures/'\n",
    "if not os.path.exists(figdir):\n",
    "    os.makedirs(figdir)"
   ]
  },
  {
   "cell_type": "markdown",
   "id": "936ad3be-712e-4d13-9ba0-2cb1705b7ac5",
   "metadata": {},
   "source": [
    "## Transforming to xarray"
   ]
  },
  {
   "cell_type": "markdown",
   "id": "0c5c5997-535c-47dd-9eea-6ce8520c68c1",
   "metadata": {},
   "source": [
    "### Convert CNV file to netCDF"
   ]
  },
  {
   "cell_type": "code",
   "execution_count": null,
   "id": "bbf42705-d069-43e5-b62e-47737ab8c0f2",
   "metadata": {},
   "outputs": [],
   "source": [
    "# Using pyCNV\n",
    "# Data from Seabird sensors typically come in as .cnv files.  \n",
    "# These files can be converted to netCDF format using the seabird package.\n",
    "# In this case, we've done the conversion for you.\n",
    "\n",
    "# converted cnv to netcdf (MSM121_054_1db.cnv --> MSM121_054_1db.nc) on the command line\n",
    "\n",
    "# Instead of using seabird package on CLI for conversion: \n",
    "# do it here within Python, but check before whether the .nc file already exists using os package\n",
    "#if not os.path.exists(netcdf_file_with_path):\n",
    "#    data = fCNV(cnv_file_with_path) # read .cnv file\n",
    "#    cnv2nc(ds, netcdf_file_with_path) # write .nc file\n",
    "\n",
    "# Using ctd-tools   \n",
    "# Read CTD data from CNV file\n",
    "reader = CnvReader(cnv_file_with_path)\n",
    "dataset = reader.get_data()\n",
    "\n",
    "# Write dataset with CTD data to netCDF file\n",
    "writer = NetCdfWriter(dataset)\n",
    "if not os.path.exists(netcdf_file_with_path):\n",
    "    writer.write(netcdf_file_with_path)\n"
   ]
  },
  {
   "cell_type": "markdown",
   "id": "2e35539f-2fce-42c7-aa41-0bb8b4f879a2",
   "metadata": {},
   "source": [
    "### Open file and show contents"
   ]
  },
  {
   "cell_type": "code",
   "execution_count": null,
   "id": "f42a3409",
   "metadata": {},
   "outputs": [],
   "source": [
    "# load data\n",
    "ctd_ds = xr.open_dataset(netcdf_file_with_path)\n",
    "\n",
    "# print data\n",
    "print(ctd_ds.info)"
   ]
  },
  {
   "cell_type": "markdown",
   "id": "aa8b4920",
   "metadata": {},
   "source": [
    "## Understanding the data format\n",
    "\n",
    "The data stored within the netcdf file include measured parameters as `variables`, for example:\n",
    "\n",
    "- `pressure` is pressure in decibars\n",
    "- `temperature` is temperature in degrees Celcius\n",
    "- `salinity` is salinity from the secondary sensor\n",
    "- `latitude` is the position where the data were take from in degrees North (positive) or south (negative)\n",
    "- `longitude` is the longitude with degrees east (positive) or west (negative)\n",
    "\n",
    "The list of `Attributes` include details like the single value for latitude/longitude, or the date the file was created."
   ]
  },
  {
   "cell_type": "code",
   "execution_count": 46,
   "id": "8e9da30b",
   "metadata": {},
   "outputs": [],
   "source": [
    "# Here we are defining the names of the variables in the netCDF file\n",
    "# If your netcdf file calls salinity \"PSAL\", you would change the sal_string to 'PSAL'\n",
    "sal_string = 'salinity'\n",
    "temp_string = 'temperature'\n",
    "pres_string = 'pressure'\n",
    "lon_string = 'longitude'\n",
    "lat_string = 'latitude'\n",
    "SA_string = 'absolute_salinity'\n",
    "CT_string = 'conservative_temperature'\n",
    "# You could also define these pairs in a dictionary (https://www.w3schools.com/python/python_dictionaries.asp)"
   ]
  },
  {
   "cell_type": "markdown",
   "id": "8cfdc970",
   "metadata": {},
   "source": [
    "# Plot the temperature and salinity\n",
    "\n",
    "To plot in Python, we often use the package `matplotlib` which  you've imported above.  This includes a variety of functions which can be used to generate figures in python."
   ]
  },
  {
   "cell_type": "code",
   "execution_count": null,
   "id": "0c2f279b",
   "metadata": {},
   "outputs": [],
   "source": [
    "# To initialise a figure, use matplotlib.plt.figure() which takes inputs within the brackets\n",
    "# Since matplotlib is long to write, in the import cell above, we've imported it as plt\n",
    "plt.figure(1, figsize=(12, 8)) \n",
    "\n",
    "# In case the figure 1 already exists, clear it using clf()\n",
    "plt.clf()\n",
    "\n",
    "# Within the figure window, we'll actually have two separate sets of axes.  These are called 'subplots' in matplotlib\n",
    "# We'll have two subplots, one next to the other, so we'll have a 1x2 grid of subplots\n",
    "plt.subplot(1,2,1)\n",
    "\n",
    "# To plot salinity, we need to reference the salinity variable in the dataset.  This is done using the syntax ctd_ds['PSAL2']\n",
    "# Here, ctd_ds is the name of the dataset, and 'PSAL2' is the name of the variable.  The variable name is case sensitive.\n",
    "plt.plot(ctd_ds[sal_string], ctd_ds[pres_string], color='blue')\n",
    "\n",
    "# Now we'd like to annotate our figure.  We can do this using the plt.xlabel() and plt.ylabel() functions\n",
    "# These functions take a string as an argument, which is the text that will be displayed on the x and y axes\n",
    "# An optional second argument can be used to specify the fontsize.  IMPORTANT: choose values to make the text readable.\n",
    "plt.xlabel('Practical salinity' , fontsize=12)\n",
    "plt.ylabel('Pressure [dbar]', fontsize=12)\n",
    "\n",
    "# Since pressure decreases with depth, we want to invert the y-axis so that the surface is at the top of the plot\n",
    "plt.gca().invert_yaxis()\n",
    "\n",
    "# Here we specify where exactly the x-ticks should be placed.  We want them at 34, 34.5, and 35\n",
    "x_ticks = [34, 34.5, 35]\n",
    "plt.xticks(x_ticks, fontsize=12)\n",
    "\n",
    "# We don't specify for the y-axis, but we do want the text size to be readable.\n",
    "plt.yticks(fontsize=12)\n",
    "\n",
    "# Finally, we can add a title to the plot using plt.title().  This function also takes a string as an argument.\n",
    "plt.title('Salinity profile', fontsize=12)\n",
    "plt.grid(True)\n",
    "\n",
    "# YOUR TURN: Now, let's plot the temperature profile on the right-hand side of the figure\n",
    "\n",
    "plt.subplot(1,2,2)\n",
    "\n",
    "# This code saves the figure to a file.  The file type is determined by the extension of the filename.\n",
    "# Change LastName to your last name\n",
    "plt.savefig(figdir + 'ex1fig1-LastName-Messfern.png')\n",
    "plt.show()\n",
    "\n"
   ]
  },
  {
   "cell_type": "markdown",
   "id": "b559ef76",
   "metadata": {},
   "source": [
    "# Checklist for figure details to change:\n",
    "\n",
    "- [ ] Change the shallow limit to be exactly zero\n",
    "- [ ] Change the gridlines to be dashed (or dotted)\n",
    "- [ ] Add additional ticks on the x-axis to show more detail\n",
    "- [ ] Reduce the ticks and gridlines on the y-axis to be every 1000m\n",
    "- [ ] Change the title to also include the latitude/longitude of the profile\n",
    "- [ ] Add empty square brackets after Practical Salinity  [ ] to indicate that there are no units\n",
    "- [ ] Make the figure size about 1/3rd the height of A4 paper, and the text width to fit on A4 paper with margins.\n",
    "- [ ] Change the font to Times New Roman or another serif font."
   ]
  },
  {
   "cell_type": "markdown",
   "id": "1e1ad01b-2a1c-4983-850d-06b8acbf87cc",
   "metadata": {},
   "source": [
    "## Calculating TEOS-10 parameters\n",
    "\n",
    "While data are collected as practical salinity and in situ temperature, in Messmethoden, we'll learn that we plot or represent the data by the quantities \"Absolute salinity\" and \"conservative temperature\".  These are better tracers of the properties within the ocean.\n",
    "\n",
    "To convert from practical to absolute salinity and temperature to conservative, we use the TEOS-10 toolbox, sometimes called the \"Gibbs Seawater Toolbox\".  In Python, you've loaded this as `import gsw`.\n",
    "\n",
    "https://teos-10.github.io/GSW-Python/conversions.html\n"
   ]
  },
  {
   "cell_type": "code",
   "execution_count": null,
   "id": "7c6eebe2-123e-48fe-b0dd-fb8714b6fb0d",
   "metadata": {},
   "outputs": [],
   "source": [
    "# Calculate absolute salinity\n",
    "SA_2 = gsw.conversions.SA_from_SP(ctd_ds[sal_string],ctd_ds[pres_string],ctd_ds[lon_string],ctd_ds[lat_string])\n",
    "\n",
    "# Calculate conservative temperature\n",
    "CT_2 = gsw.conversions.CT_from_t(SA_2,ctd_ds[temp_string],ctd_ds[pres_string])\n",
    "\n",
    "type(SA_2)\n",
    "# Add the new variables to the dataset\n",
    "# Here we've included scan as a `dimension` for the new variables which is required for the data format netCDF\n",
    "ctd_ds['absolute_salinity'] = ((\"time\"), SA_2.values)\n",
    "ctd_ds['absolute_salinity'].attrs['long_name'] = 'Absolute Salinity [g/kg]'\n",
    "ctd_ds['conservative_temperature'] = ((\"time\"), CT_2.values)\n",
    "ctd_ds['conservative_temperature'].attrs['long_name'] = 'Conservative Temperature [°C]'\n",
    "# Note in the lines above, to add a new variable to the dataset, we use the syntax ctd_ds['variable_name'] = (dimensions, data)\n",
    "# Since the dimensions of the previous variables were (time), we need to include these dimensions for the new variables as well\n",
    "# The .values attribute is used to extract the data from the xarray DataArray object\n",
    "\n",
    "# Check the data.  Note that the new variables are now in the dataset.\n",
    "print(ctd_ds.info)"
   ]
  },
  {
   "cell_type": "markdown",
   "id": "6b542973",
   "metadata": {},
   "source": [
    "You can also calculate and add the field to the data structure in a single line"
   ]
  },
  {
   "cell_type": "code",
   "execution_count": 41,
   "id": "3b3f95c0-6188-4bd0-8844-5916242f71ce",
   "metadata": {},
   "outputs": [],
   "source": [
    "# Calculate depth\n",
    "#ctd_ds['DEPTH'] = gsw.z_from_p(ctd_ds['PRES'], ctd_ds['LATITUDE']) # convert pressure to depth\n"
   ]
  },
  {
   "cell_type": "markdown",
   "id": "ae396e25-c559-4fc9-9874-8f4a5a0c301a",
   "metadata": {},
   "source": [
    "## Plot absolute and conservative temperature profiles"
   ]
  },
  {
   "cell_type": "code",
   "execution_count": null,
   "id": "87a8d755-ab4d-4bdb-bef9-5bb24bf4577f",
   "metadata": {},
   "outputs": [],
   "source": [
    "# Your code here\n",
    "\n",
    "## Plot the absolute salinity and conservative temperature profiles against depth in meters.\n",
    "\n",
    "# Change Lastname to your last name\n",
    "plt.savefig(figdir + 'ex1fig2-LastName-Messfern.png')\n",
    "plt.show()"
   ]
  },
  {
   "cell_type": "markdown",
   "id": "bca3ef18-a6d0-4993-8c92-88e08177bd8e",
   "metadata": {},
   "source": [
    "### Saving xarray to netCDF file\n",
    "\n",
    "Since we've manipulated the data, and may want to use the new variables \"Absolute salinity\" and \"Conservative temperature\" again later, let's save the new data file.\n"
   ]
  },
  {
   "cell_type": "code",
   "execution_count": 43,
   "id": "960fa426-eb68-45df-8159-288f79ae2407",
   "metadata": {},
   "outputs": [],
   "source": [
    "ctd_ds.to_netcdf(netcdf_file_with_path_edited)\n"
   ]
  },
  {
   "cell_type": "markdown",
   "id": "4534b064-0832-4be7-8300-39b89302b39b",
   "metadata": {},
   "source": [
    "## T-S Diagram\n",
    "\n",
    "A T-S diagram has salinity on the x-axis and temperature on the y-axis, and contours of density (sigma_0) added."
   ]
  },
  {
   "cell_type": "code",
   "execution_count": null,
   "id": "4db14457",
   "metadata": {},
   "outputs": [],
   "source": [
    "#https://stackoverflow.com/questions/41634179/matplotlib-contour-lines-are-not-closing-up\n",
    "\n",
    "# On a TS diagram, the X axis is salinity and the Y axis is temperature.  \n",
    "# As a helpful reminder, we can create variables X and Y.\n",
    "x = ctd_ds[SA_string]\n",
    "y = ctd_ds[CT_string]\n",
    "\n",
    "\n",
    "# A typical TS diagram also has contours of potential density.  We can add these using the gsw package.\n",
    "# meshgrid creates a grid of points for the contour plot.  The first two arguments are the x and y values,\n",
    "X, Y = np.meshgrid(np.linspace(min(x), max(x), 100), np.linspace(min(y), max(y), 100))\n",
    "# The third argument is the potential density, which is calculated using the gsw.density.sigma0() function\n",
    "Z = gsw.density.sigma0(X, Y)\n",
    "\n",
    "# Now we can plot the data.  We'll use the plt.plot() function for the curve with temperature and salinity, which takes the x and y values as arguments.\n",
    "plt.figure(figsize=(3, 8)) \n",
    "plt.plot(x,y, color='green', marker='o', markersize='6')\n",
    "plt.xlabel('Absolute Salinity', fontsize=14)\n",
    "plt.ylabel(' Temperature [°C]', fontsize=14)\n",
    "plt.xticks(fontsize=14)\n",
    "plt.yticks(fontsize=14)\n",
    "plt.ylim(1.5,14.4)\n",
    "plt.title('TS diagram', fontsize=18)\n",
    "\n",
    "# Then we add contours using the plt.contour() function.  This function takes the X, Y, and Z values as arguments.\n",
    "CS = plt.contour(X, Y, Z, 10, colors='grey', zorder=2)\n",
    "plt.clabel(CS, inline=True, fontsize=12)\n",
    "\n",
    "plt.grid(True)\n",
    "# Change Lastname to your last name\n",
    "plt.savefig(figdir + 'ex1fig3-LastName-Messfern.png')\n",
    "plt.show()"
   ]
  },
  {
   "cell_type": "code",
   "execution_count": null,
   "id": "17c376da",
   "metadata": {},
   "outputs": [],
   "source": [
    "# Repeat the plot here, but this time, plot the contours and then the data points.  This will make the data points more visible.\n",
    "\n",
    "# Try removing the grid lines\n",
    "\n",
    "# Change the aspect ratio of the plot to make it square\n",
    "\n",
    "# Change the color of the line to red\n",
    "\n",
    "# Change the axes limits to focus on the data denser than 27.00 kg/m^3\n",
    "\n",
    "# Save the figure as a .png file in the figures directory\n",
    "# Name the figure ex1fig4-LastName-Messfern.png"
   ]
  }
 ],
 "metadata": {
  "kernelspec": {
   "display_name": "base",
   "language": "python",
   "name": "python3"
  },
  "language_info": {
   "codemirror_mode": {
    "name": "ipython",
    "version": 3
   },
   "file_extension": ".py",
   "mimetype": "text/x-python",
   "name": "python",
   "nbconvert_exporter": "python",
   "pygments_lexer": "ipython3",
   "version": "3.11.10"
  }
 },
 "nbformat": 4,
 "nbformat_minor": 5
}
